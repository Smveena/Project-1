{
 "cells": [
  {
   "cell_type": "code",
   "execution_count": 2,
   "id": "65881d18",
   "metadata": {
    "scrolled": true
   },
   "outputs": [
    {
     "name": "stdout",
     "output_type": "stream",
     "text": [
      "Enter your message: veena#is_play\n",
      "Enter your key: 21\n",
      "*****The Encrypton process*****\n",
      "4zz(vA$1I_&v7\n",
      "Encrypted data stored in file\n",
      "The content in the file is\n",
      " 4zz(vA$1I_&v7\n",
      "*****The decryption process*****\n",
      "veena#is_play\n"
     ]
    }
   ],
   "source": [
    "LETTERS = 'abcdefghijklmnopqrstuvwxyz!@#$%^&*()_+=1234567890ABCDEFGHIJKLMNOPQRSTUVWXYZABCDEFGHIJKLMNOPQRSTUVWXYZ'\n",
    "\n",
    "    \n",
    "def encrypt(message, key):\n",
    "    encrypted = ''\n",
    "    for chars in message:\n",
    "        if chars in LETTERS:\n",
    "            num = LETTERS.find(chars)\n",
    "            num += key\n",
    "            encrypted += LETTERS[num]\n",
    "    return encrypted\n",
    "\n",
    "\n",
    "def decrypt(message, key):\n",
    "    decrypted = ''\n",
    "    for chars in message:\n",
    "        if chars in LETTERS:\n",
    "            num = LETTERS.find(chars)\n",
    "            num -= key\n",
    "            decrypted += LETTERS[num]\n",
    "    return decrypted\n",
    "\n",
    "\n",
    "def main():\n",
    "    message = str(input(\"Enter your message: \"))\n",
    "    key = int(input(\"Enter your key: \"))\n",
    "    print(\"*****The Encrypton process*****\")\n",
    "    print(encrypt(message, key))\n",
    "    with open(\"encrypt_data.txt\", \"w\") as out_file:\n",
    "        encrypt_string = \"\"\n",
    "        encrypt_string += \" \" + str(encrypt(message, key))\n",
    "        out_file.write(encrypt_string)\n",
    "    print(\"Encrypted data stored in file\")\n",
    "    with open(\"encrypt_data.txt\") as f:\n",
    "        contents = f.read()\n",
    "        print(\"The content in the file is\")\n",
    "        print(contents)\n",
    "        print(\"*****The decryption process*****\")\n",
    "        print(decrypt(contents, key))\n",
    "        \n",
    "\n",
    "if __name__ == '__main__':\n",
    "    main()\n",
    "\n"
   ]
  },
  {
   "cell_type": "code",
   "execution_count": 1,
   "id": "0a3febe9",
   "metadata": {},
   "outputs": [
    {
     "name": "stdout",
     "output_type": "stream",
     "text": [
      "Enter the data to be encrypted:The sun is bright\n",
      "***** Encryption process******\n",
      "After encryption :  b'gAAAAABi_56FFprQ7q1t50wgxKW5KjmzOs6fbL2yfmStCJrqS1Fai5zGhir3vZA8Px2J5XlyhcxGTnPWaNTyZSpY5volzFQcyRyMuScUnxy_5DsrUs5atjc='\n",
      "*****Admin page*******\n",
      "*****Decryption Process*******\n",
      "Enter Your Username : user\n",
      "Invalid user\n"
     ]
    }
   ],
   "source": [
    "from cryptography.fernet import Fernet\n",
    "database = {\"admin\": \"123456\"}\n",
    "key = Fernet.generate_key()\n",
    "f = Fernet(key)\n",
    "m = str(input(\"Enter the data to be encrypted:\"))\n",
    "encoded = m.encode()\n",
    "encrypted_data = f.encrypt(encoded)\n",
    "print(\"***** Encryption process******\")\n",
    "print(\"After encryption : \", encrypted_data)\n",
    "print(\"*****Admin page*******\")\n",
    "print(\"*****Decryption Process*******\")\n",
    "username = str(input(\"Enter Your Username : \"))\n",
    "for i in database.keys():\n",
    "    if username != i:\n",
    "        print(\"Invalid user\")\n",
    "    else:\n",
    "        password = input(\"Enter Your Password : \")\n",
    "        if password != database.get(i):\n",
    "            print(\"Password  incorrect\")\n",
    "        else:\n",
    "            print(\"Credentials authenticated\")\n",
    "            decrypted_data = f.decrypt(encrypted_data)\n",
    "            original_msg = decrypted_data.decode()\n",
    "            print(\"After decryption : \", original_msg)\n"
   ]
  },
  {
   "cell_type": "code",
   "execution_count": 2,
   "id": "e5ebd290",
   "metadata": {},
   "outputs": [
    {
     "name": "stdout",
     "output_type": "stream",
     "text": [
      "Enter the data to be encrypted:the sun is bright\n",
      "***** Encryption process******\n",
      "After encryption :  b'gAAAAABi_56mHiKCoBP036_aql5E_yMFtEcmwAhXemL18smw2WygZV33WLULxddZHvc_OFeu_0qV9_cyyDtnLKATH000oVzWY14WMvTGsYK0LORz65lMf7g='\n",
      "*****Admin page*******\n",
      "*****Decryption Process*******\n",
      "Enter Your Username : admin\n",
      "Enter Your Password : 12324\n",
      "Password  incorrect\n"
     ]
    }
   ],
   "source": [
    "from cryptography.fernet import Fernet\n",
    "database = {\"admin\": \"123456\"}\n",
    "key = Fernet.generate_key()\n",
    "f = Fernet(key)\n",
    "m = str(input(\"Enter the data to be encrypted:\"))\n",
    "encoded = m.encode()\n",
    "encrypted_data = f.encrypt(encoded)\n",
    "print(\"***** Encryption process******\")\n",
    "print(\"After encryption : \", encrypted_data)\n",
    "print(\"*****Admin page*******\")\n",
    "print(\"*****Decryption Process*******\")\n",
    "username = str(input(\"Enter Your Username : \"))\n",
    "for i in database.keys():\n",
    "    if username != i:\n",
    "        print(\"Invalid user\")\n",
    "    else:\n",
    "        password = input(\"Enter Your Password : \")\n",
    "        if password != database.get(i):\n",
    "            print(\"Password  incorrect\")\n",
    "        else:\n",
    "            print(\"Credentials authenticated\")\n",
    "            decrypted_data = f.decrypt(encrypted_data)\n",
    "            original_msg = decrypted_data.decode()\n",
    "            print(\"After decryption : \", original_msg)"
   ]
  },
  {
   "cell_type": "code",
   "execution_count": 3,
   "id": "b700d861",
   "metadata": {},
   "outputs": [
    {
     "name": "stdout",
     "output_type": "stream",
     "text": [
      "Enter the data to be encrypted:the sun is bright\n",
      "***** Encryption process******\n",
      "After encryption :  b'gAAAAABi_57EmaTCF1Z6p7R7FccmFCQ12pQ3r-KjDKLCtkXTMIoPNXa5iL7SsiEUXgtmMZ_futpxciFV_yzOYDzyTI5mzP6DqqxqH5vr_YfAbYVZOX5b2Po='\n",
      "*****Admin page*******\n",
      "*****Decryption Process*******\n",
      "Enter Your Username : admin\n",
      "Enter Your Password : 123456\n",
      "Credentials authenticated\n",
      "After decryption :  the sun is bright\n"
     ]
    }
   ],
   "source": [
    "from cryptography.fernet import Fernet\n",
    "database = {\"admin\": \"123456\"}\n",
    "key = Fernet.generate_key()\n",
    "f = Fernet(key)\n",
    "m = str(input(\"Enter the data to be encrypted:\"))\n",
    "encoded = m.encode()\n",
    "encrypted_data = f.encrypt(encoded)\n",
    "print(\"***** Encryption process******\")\n",
    "print(\"After encryption : \", encrypted_data)\n",
    "print(\"*****Admin page*******\")\n",
    "print(\"*****Decryption Process*******\")\n",
    "username = str(input(\"Enter Your Username : \"))\n",
    "for i in database.keys():\n",
    "    if username != i:\n",
    "        print(\"Invalid user\")\n",
    "    else:\n",
    "        password = input(\"Enter Your Password : \")\n",
    "        if password != database.get(i):\n",
    "            print(\"Password  incorrect\")\n",
    "        else:\n",
    "            print(\"Credentials authenticated\")\n",
    "            decrypted_data = f.decrypt(encrypted_data)\n",
    "            original_msg = decrypted_data.decode()\n",
    "            print(\"After decryption : \", original_msg)"
   ]
  },
  {
   "cell_type": "code",
   "execution_count": null,
   "id": "be411e5b",
   "metadata": {},
   "outputs": [],
   "source": []
  }
 ],
 "metadata": {
  "kernelspec": {
   "display_name": "Python 3 (ipykernel)",
   "language": "python",
   "name": "python3"
  },
  "language_info": {
   "codemirror_mode": {
    "name": "ipython",
    "version": 3
   },
   "file_extension": ".py",
   "mimetype": "text/x-python",
   "name": "python",
   "nbconvert_exporter": "python",
   "pygments_lexer": "ipython3",
   "version": "3.9.12"
  }
 },
 "nbformat": 4,
 "nbformat_minor": 5
}
